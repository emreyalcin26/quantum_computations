{
 "cells": [
  {
   "cell_type": "markdown",
   "metadata": {},
   "source": [
    "<table> <tr>\n",
    "        <td  style=\"background-color:#ffffff;\">\n",
    "            <a href=\"http://qworld.lu.lv\" target=\"_blank\"><img src=\"..\\images\\qworld.jpg\" width=\"25%\" align=\"left\"> </a></td>\n",
    "        <td style=\"background-color:#ffffff;vertical-align:bottom;text-align:right;\">\n",
    "            prepared by <a href=\"http://abu.lu.lv\" target=\"_blank\">Abuzer Yakaryilmaz</a> (<a href=\"http://qworld.lu.lv/index.php/qlatvia/\" target=\"_blank\">QLatvia</a>)\n",
    "        </td>        \n",
    "</tr></table>"
   ]
  },
  {
   "cell_type": "markdown",
   "metadata": {},
   "source": [
    "<table width=\"100%\"><tr><td style=\"color:#bbbbbb;background-color:#ffffff;font-size:11px;font-style:italic;text-align:right;\">This cell contains some macros. If there is a problem with displaying mathematical formulas, please run this cell to load these macros. </td></tr></table>\n",
    "$ \\newcommand{\\bra}[1]{\\langle #1|} $\n",
    "$ \\newcommand{\\ket}[1]{|#1\\rangle} $\n",
    "$ \\newcommand{\\braket}[2]{\\langle #1|#2\\rangle} $\n",
    "$ \\newcommand{\\dot}[2]{ #1 \\cdot #2} $\n",
    "$ \\newcommand{\\biginner}[2]{\\left\\langle #1,#2\\right\\rangle} $\n",
    "$ \\newcommand{\\mymatrix}[2]{\\left( \\begin{array}{#1} #2\\end{array} \\right)} $\n",
    "$ \\newcommand{\\myvector}[1]{\\mymatrix{c}{#1}} $\n",
    "$ \\newcommand{\\myrvector}[1]{\\mymatrix{r}{#1}} $\n",
    "$ \\newcommand{\\mypar}[1]{\\left( #1 \\right)} $\n",
    "$ \\newcommand{\\mybigpar}[1]{ \\Big( #1 \\Big)} $\n",
    "$ \\newcommand{\\sqrttwo}{\\frac{1}{\\sqrt{2}}} $\n",
    "$ \\newcommand{\\dsqrttwo}{\\dfrac{1}{\\sqrt{2}}} $\n",
    "$ \\newcommand{\\onehalf}{\\frac{1}{2}} $\n",
    "$ \\newcommand{\\donehalf}{\\dfrac{1}{2}} $\n",
    "$ \\newcommand{\\hadamard}{ \\mymatrix{rr}{ \\sqrttwo & \\sqrttwo \\\\ \\sqrttwo & -\\sqrttwo }} $\n",
    "$ \\newcommand{\\vzero}{\\myvector{1\\\\0}} $\n",
    "$ \\newcommand{\\vone}{\\myvector{0\\\\1}} $\n",
    "$ \\newcommand{\\vhadamardzero}{\\myvector{ \\sqrttwo \\\\  \\sqrttwo } } $\n",
    "$ \\newcommand{\\vhadamardone}{ \\myrvector{ \\sqrttwo \\\\ -\\sqrttwo } } $\n",
    "$ \\newcommand{\\myarray}[2]{ \\begin{array}{#1}#2\\end{array}} $\n",
    "$ \\newcommand{\\X}{ \\mymatrix{cc}{0 & 1 \\\\ 1 & 0}  } $\n",
    "$ \\newcommand{\\Z}{ \\mymatrix{rr}{1 & 0 \\\\ 0 & -1}  } $\n",
    "$ \\newcommand{\\Htwo}{ \\mymatrix{rrrr}{ \\frac{1}{2} & \\frac{1}{2} & \\frac{1}{2} & \\frac{1}{2} \\\\ \\frac{1}{2} & -\\frac{1}{2} & \\frac{1}{2} & -\\frac{1}{2} \\\\ \\frac{1}{2} & \\frac{1}{2} & -\\frac{1}{2} & -\\frac{1}{2} \\\\ \\frac{1}{2} & -\\frac{1}{2} & -\\frac{1}{2} & \\frac{1}{2} } } $\n",
    "$ \\newcommand{\\CNOT}{ \\mymatrix{cccc}{1 & 0 & 0 & 0 \\\\ 0 & 1 & 0 & 0 \\\\ 0 & 0 & 0 & 1 \\\\ 0 & 0 & 1 & 0} } $\n",
    "$ \\newcommand{\\norm}[1]{ \\left\\lVert #1 \\right\\rVert } $\n",
    "$ \\newcommand{\\pstate}[1]{ \\lceil \\mspace{-1mu} #1 \\mspace{-1.5mu} \\rfloor } $"
   ]
  },
  {
   "cell_type": "markdown",
   "metadata": {},
   "source": [
    "<h2>Hadamard Operator</h2>\n",
    "\n",
    "An example quantum operator for quantum coin-flipping is Hadamard. \n",
    "\n",
    "It is referred as h-gate in Qiskit.\n",
    "\n",
    "We implement all three experinments by using Qiskit. Here we present the first and third experiment. The second experiment will be presented later.\n",
    "\n",
    "_This will be a warm-up step before introducing a quantum bit more formally._  "
   ]
  },
  {
   "cell_type": "markdown",
   "metadata": {},
   "source": [
    "<h3> The first experiment</h3>\n",
    "\n",
    "Our quantum bit (<b>qubit</b>) starts in state 0, which is shown as $ \\ket{0} = \\myvector{1 \\\\ 0} $.\n",
    "\n",
    "<i>$ \\ket{\\cdot} $ is called ket-notation:  Ket-notation is used to represent a column vector in quantum mechanics. \n",
    "For a given column vector $ \\ket{v} $, its conjugate transpose is a row vector represented as $ \\bra{v} $ (bra-notation). \n",
    "</i>"
   ]
  },
  {
   "cell_type": "markdown",
   "metadata": {},
   "source": [
    "<h4> The circuit with a single Hadamard </h4>\n",
    "\n",
    "We design a circuit with one qubit and apply quantum coin-flipping once."
   ]
  },
  {
   "cell_type": "code",
   "execution_count": 2,
   "metadata": {},
   "outputs": [
    {
     "data": {
      "image/png": "[encoded data removed]",
      "text/plain": [
       "<Figure size 266.084x144.48 with 1 Axes>"
      ]
     },
     "execution_count": 2,
     "metadata": {},
     "output_type": "execute_result"
    }
   ],
   "source": [
    "# import all necessary objects and methods for quantum circuits\n",
    "from qiskit import QuantumRegister, ClassicalRegister, QuantumCircuit, execute, Aer\n",
    "\n",
    "# define a quantum register with one qubit\n",
    "q =  QuantumRegister(1,\"qreg\")\n",
    "\n",
    "# define a classical register with one bit\n",
    "# it stores the measurement result of the quantum part\n",
    "c = ClassicalRegister(1,\"creg\")\n",
    "\n",
    "# define our quantum circuit\n",
    "qc = QuantumCircuit(q,c)\n",
    "\n",
    "# apply h-gate (Hadamard: quantum coin-flipping) to the first qubit\n",
    "qc.h(q[0])\n",
    "\n",
    "# measure the first qubit, and store the result in the first classical bit\n",
    "qc.measure(q,c)\n",
    "\n",
    "# draw the circuit by using matplotlib\n",
    "qc.draw(output='mpl') # re-run the cell if the figure is not displayed"
   ]
  },
  {
   "cell_type": "markdown",
   "metadata": {},
   "source": [
    "<img src=\"../images/photon1.jpg\" width=\"40%\">"
   ]
  },
  {
   "cell_type": "code",
   "execution_count": 3,
   "metadata": {},
   "outputs": [
    {
     "name": "stdout",
     "output_type": "stream",
     "text": [
      "{'0': 5047, '1': 4953}\n",
      "\n",
      "State 0 is observed with frequency % 50.47\n",
      "State 1 is observed with frequency % 49.53\n",
      "\n"
     ]
    },
    {
     "data": {
      "image/png": "[encoded data removed]",
      "text/plain": [
       "<Figure size 504x360 with 1 Axes>"
      ]
     },
     "execution_count": 3,
     "metadata": {},
     "output_type": "execute_result"
    }
   ],
   "source": [
    "# execute the circuit 10000 times in the local simulator\n",
    "\n",
    "job = execute(qc,Aer.get_backend('qasm_simulator'),shots=10000)\n",
    "counts = job.result().get_counts(qc)\n",
    "print(counts) # print the outcomes\n",
    "\n",
    "print()\n",
    "n_zeros = counts['0']\n",
    "n_ones = counts['1']\n",
    "print(\"State 0 is observed with frequency %\",100*n_zeros/(n_zeros+n_ones))\n",
    "print(\"State 1 is observed with frequency %\",100*n_ones/(n_zeros+n_ones))\n",
    "\n",
    "# we can show the result by using histogram\n",
    "print()\n",
    "from qiskit.visualization import plot_histogram\n",
    "plot_histogram(counts)"
   ]
  },
  {
   "cell_type": "markdown",
   "metadata": {},
   "source": [
    "The numbers of outcomes '0's and '1's are expected to be close to each other.\n",
    "\n",
    "<img src=\"../images/photon2.jpg\" width=\"40%\">\n",
    "\n",
    "<b style=\"color:black;\"> As we have observed after this implementation, quantum systems output probabilistically.</b>"
   ]
  },
  {
   "cell_type": "markdown",
   "metadata": {},
   "source": [
    "<h3> The third experiment </h3>\n",
    "\n",
    "_We will examine the second experiment later because it requires intermediate measurement. (We can do intermediate measurements in simulators, but it is not possible in the real machines.)_\n",
    "\n",
    "Now, we implement the third experiment.\n",
    "\n",
    "<img src=\"../images/photon6.jpg\" width=\"60%\">"
   ]
  },
  {
   "cell_type": "markdown",
   "metadata": {},
   "source": [
    "<h4> The circuit with two Hadamards </h4>\n",
    "\n",
    "We design a circuit with one qubit and apply quantum coin-flipping twice."
   ]
  },
  {
   "cell_type": "code",
   "execution_count": 4,
   "metadata": {},
   "outputs": [
    {
     "data": {
      "image/png": "[encoded data removed]",
      "text/plain": [
       "<Figure size 337.12x144.48 with 1 Axes>"
      ]
     },
     "execution_count": 4,
     "metadata": {},
     "output_type": "execute_result"
    }
   ],
   "source": [
    "# import all necessary objects and methods for quantum circuits\n",
    "from qiskit import QuantumRegister, ClassicalRegister, QuantumCircuit, execute, Aer\n",
    "\n",
    "# define a quantum register with one qubit\n",
    "q2 =  QuantumRegister(1,\"qreg2\")\n",
    "\n",
    "# define a classical register with one bit\n",
    "# it stores the measurement result of the quantum part\n",
    "c2 = ClassicalRegister(1,\"creg2\")\n",
    "\n",
    "# define our quantum circuit\n",
    "qc2 = QuantumCircuit(q2,c2)\n",
    "\n",
    "# apply h-gate (Hadamard: quantum coin-flipping) to the first qubit\n",
    "qc2.h(q2[0])\n",
    "\n",
    "# apply h-gate (Hadamard: quantum coin-flipping) to the first qubit once more\n",
    "qc2.h(q2[0])\n",
    "\n",
    "# measure the first qubit, and store the result in the first classical bit\n",
    "qc2.measure(q2,c2)\n",
    "\n",
    "# draw the circuit by using matplotlib\n",
    "qc2.draw(output='mpl') # re-run the cell if the figure is not displayed"
   ]
  },
  {
   "cell_type": "code",
   "execution_count": 5,
   "metadata": {},
   "outputs": [
    {
     "name": "stdout",
     "output_type": "stream",
     "text": [
      "{'0': 10000}\n"
     ]
    }
   ],
   "source": [
    "# execute the circuit 10000 times in the local simulator\n",
    "\n",
    "job = execute(qc2,Aer.get_backend('qasm_simulator'),shots=10000)\n",
    "counts2 = job.result().get_counts(qc2)\n",
    "print(counts2) # print the outcomes"
   ]
  },
  {
   "cell_type": "markdown",
   "metadata": {},
   "source": [
    "The <u>only outcome</u> must be '0'.\n",
    "\n",
    "<img src=\"../images/photon7.jpg\" width=\"60%\">"
   ]
  },
  {
   "cell_type": "markdown",
   "metadata": {},
   "source": [
    "<h3> Task 1 </h3>\n",
    "\n",
    "Remember that x-gate flips the value of a qubit.\n",
    "\n",
    "Design a quantum circuit with a single qubit.\n",
    "\n",
    "The qubit is initially set to $ \\ket{0} $.\n",
    "\n",
    "Set the value of qubit to $ \\ket{1} $ by using x-gate.\n",
    "\n",
    "Experiment 1: Apply one Hadamard gate, make measurement, and execute your program 10000 times.\n",
    "\n",
    "Experiment 2: Apply two Hadamard gates, make measurement, and execute your program 10000 times.\n",
    "\n",
    "Compare your results.\n",
    "\n",
    "The following two diagrams represent these experiments."
   ]
  },
  {
   "cell_type": "markdown",
   "metadata": {},
   "source": [
    "<table>\n",
    "    <tr>\n",
    "        <td><img src=\"../images/photon8.jpg\" width=\"80%\"></td>\n",
    "        <td><img src=\"../images/photon9.jpg\" width=\"70%\"></td>\n",
    "    </tr>\n",
    "</table>"
   ]
  },
  {
   "cell_type": "code",
   "execution_count": 1,
   "metadata": {},
   "outputs": [
    {
     "data": {
      "image/png": "[encoded data removed]",
      "text/plain": [
       "<Figure size 337.12x144.48 with 1 Axes>"
      ]
     },
     "execution_count": 1,
     "metadata": {},
     "output_type": "execute_result"
    }
   ],
   "source": [
    "# ONE HADAMARD OPERATIONS\n",
    "\n",
    "# import all necessary objects and methods for quantum circuits\n",
    "from qiskit import QuantumRegister, ClassicalRegister, QuantumCircuit, execute, Aer\n",
    "\n",
    "q3 =  QuantumRegister(1,\"qreg2\")\n",
    "c3 = ClassicalRegister(1,\"creg2\")\n",
    "\n",
    "qc3 = QuantumCircuit(q3,c3)\n",
    "qc3.x(q3[0])\n",
    "qc3.h(q3[0])\n",
    "qc3.measure(q3,c3)\n",
    "qc3.draw(output='mpl')"
   ]
  },
  {
   "cell_type": "code",
   "execution_count": 2,
   "metadata": {},
   "outputs": [
    {
     "name": "stdout",
     "output_type": "stream",
     "text": [
      "{'1': 4968, '0': 5032}\n"
     ]
    }
   ],
   "source": [
    "job = execute(qc3,Aer.get_backend('qasm_simulator'),shots=10000)\n",
    "counts3 = job.result().get_counts(qc3)\n",
    "print(counts3) # print the outcomes"
   ]
  },
  {
   "cell_type": "code",
   "execution_count": 3,
   "metadata": {},
   "outputs": [
    {
     "data": {
      "image/png": "[encoded data removed]",
      "text/plain": [
       "<Figure size 397.32x144.48 with 1 Axes>"
      ]
     },
     "execution_count": 3,
     "metadata": {},
     "output_type": "execute_result"
    }
   ],
   "source": [
    "# TWO HADAMARD OPERATIONS\n",
    "\n",
    "# import all necessary objects and methods for quantum circuits\n",
    "from qiskit import QuantumRegister, ClassicalRegister, QuantumCircuit, execute, Aer\n",
    "\n",
    "q4 =  QuantumRegister(1,\"qreg2\")\n",
    "c4 = ClassicalRegister(1,\"creg2\")\n",
    "\n",
    "qc4 = QuantumCircuit(q4,c4)\n",
    "qc4.x(q4[0])\n",
    "qc4.h(q4[0])\n",
    "qc4.h(q4[0])\n",
    "qc4.measure(q4,c4)\n",
    "qc4.draw(output='mpl')"
   ]
  },
  {
   "cell_type": "code",
   "execution_count": 4,
   "metadata": {},
   "outputs": [
    {
     "name": "stdout",
     "output_type": "stream",
     "text": [
      "{'1': 10000}\n"
     ]
    }
   ],
   "source": [
    "job = execute(qc4,Aer.get_backend('qasm_simulator'),shots=10000)\n",
    "counts4 = job.result().get_counts(qc4)\n",
    "print(counts4) # print the outcomes"
   ]
  },
  {
   "cell_type": "markdown",
   "metadata": {},
   "source": [
    "<a href=\"B24_Hadamard_Solution.ipynb#task1\">click for our solution</a>"
   ]
  }
 ],
 "metadata": {
  "kernelspec": {
   "display_name": "Python 3",
   "language": "python",
   "name": "python3"
  },
  "language_info": {
   "codemirror_mode": {
    "name": "ipython",
    "version": 3
   },
   "file_extension": ".py",
   "mimetype": "text/x-python",
   "name": "python",
   "nbconvert_exporter": "python",
   "pygments_lexer": "ipython3",
   "version": "3.8.0"
  }
 },
 "nbformat": 4,
 "nbformat_minor": 2
}
