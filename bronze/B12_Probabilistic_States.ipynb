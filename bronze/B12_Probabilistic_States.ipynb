{
 "cells": [
  {
   "cell_type": "markdown",
   "metadata": {},
   "source": [
    "<table width=\"100%\"> <tr>\n",
    "        <td  style=\"background-color:#ffffff;\">\n",
    "            <a href=\"https://qsoftware.lu.lv/index.php/qworld/\" target=\"_blank\"><img src=\"..\\images\\qworld.jpg\" width=\"35%\" align=\"left\"> </a></td>\n",
    "        <td style=\"background-color:#ffffff;vertical-align:bottom;text-align:right;\">\n",
    "            prepared by Abuzer Yakaryilmaz (<a href=\"http://qworld.lu.lv/index.php/qlatvia/\" target=\"_blank\">QLatvia</a>)\n",
    "        </td>        \n",
    "</tr></table>"
   ]
  },
  {
   "cell_type": "markdown",
   "metadata": {},
   "source": [
    "<table width=\"100%\"><tr><td style=\"color:#bbbbbb;background-color:#ffffff;font-size:11px;font-style:italic;text-align:right;\">This cell contains some macros. If there is a problem with displaying mathematical formulas, please run this cell to load these macros. </td></tr></table>\n",
    "$ \\newcommand{\\bra}[1]{\\langle #1|} $\n",
    "$ \\newcommand{\\ket}[1]{|#1\\rangle} $\n",
    "$ \\newcommand{\\braket}[2]{\\langle #1|#2\\rangle} $\n",
    "$ \\newcommand{\\dot}[2]{ #1 \\cdot #2} $\n",
    "$ \\newcommand{\\biginner}[2]{\\left\\langle #1,#2\\right\\rangle} $\n",
    "$ \\newcommand{\\mymatrix}[2]{\\left( \\begin{array}{#1} #2\\end{array} \\right)} $\n",
    "$ \\newcommand{\\myvector}[1]{\\mymatrix{c}{#1}} $\n",
    "$ \\newcommand{\\myrvector}[1]{\\mymatrix{r}{#1}} $\n",
    "$ \\newcommand{\\mypar}[1]{\\left( #1 \\right)} $\n",
    "$ \\newcommand{\\mybigpar}[1]{ \\Big( #1 \\Big)} $\n",
    "$ \\newcommand{\\sqrttwo}{\\frac{1}{\\sqrt{2}}} $\n",
    "$ \\newcommand{\\dsqrttwo}{\\dfrac{1}{\\sqrt{2}}} $\n",
    "$ \\newcommand{\\onehalf}{\\frac{1}{2}} $\n",
    "$ \\newcommand{\\donehalf}{\\dfrac{1}{2}} $\n",
    "$ \\newcommand{\\hadamard}{ \\mymatrix{rr}{ \\sqrttwo & \\sqrttwo \\\\ \\sqrttwo & -\\sqrttwo }} $\n",
    "$ \\newcommand{\\vzero}{\\myvector{1\\\\0}} $\n",
    "$ \\newcommand{\\vone}{\\myvector{0\\\\1}} $\n",
    "$ \\newcommand{\\vhadamardzero}{\\myvector{ \\sqrttwo \\\\  \\sqrttwo } } $\n",
    "$ \\newcommand{\\vhadamardone}{ \\myrvector{ \\sqrttwo \\\\ -\\sqrttwo } } $\n",
    "$ \\newcommand{\\myarray}[2]{ \\begin{array}{#1}#2\\end{array}} $\n",
    "$ \\newcommand{\\X}{ \\mymatrix{cc}{0 & 1 \\\\ 1 & 0}  } $\n",
    "$ \\newcommand{\\Z}{ \\mymatrix{rr}{1 & 0 \\\\ 0 & -1}  } $\n",
    "$ \\newcommand{\\Htwo}{ \\mymatrix{rrrr}{ \\frac{1}{2} & \\frac{1}{2} & \\frac{1}{2} & \\frac{1}{2} \\\\ \\frac{1}{2} & -\\frac{1}{2} & \\frac{1}{2} & -\\frac{1}{2} \\\\ \\frac{1}{2} & \\frac{1}{2} & -\\frac{1}{2} & -\\frac{1}{2} \\\\ \\frac{1}{2} & -\\frac{1}{2} & -\\frac{1}{2} & \\frac{1}{2} } } $\n",
    "$ \\newcommand{\\CNOT}{ \\mymatrix{cccc}{1 & 0 & 0 & 0 \\\\ 0 & 1 & 0 & 0 \\\\ 0 & 0 & 0 & 1 \\\\ 0 & 0 & 1 & 0} } $\n",
    "$ \\newcommand{\\norm}[1]{ \\left\\lVert #1 \\right\\rVert } $"
   ]
  },
  {
   "cell_type": "markdown",
   "metadata": {},
   "source": [
    "<h2> Probabilistic States </h2>"
   ]
  },
  {
   "cell_type": "markdown",
   "metadata": {},
   "source": [
    "Suppose that Asja flips a fair coin secretly.\n",
    "\n",
    "Because we do not see the result, our information about the outcome will be probabilistic:\n",
    "\n",
    "$\\rightarrow$ The result is Head with probability $0.5$ and the result is Tail with probability $0.5$.\n",
    "\n",
    "If the coin has a bias $ \\dfrac{Pr(Head)}{Pr(Tail)} = \\dfrac{3}{1}$, then our information about the outcome is as follows:\n",
    "\n",
    "$\\rightarrow$  The result is Head with probability $ 0.75 $ and the result is Tail with probability $ 0.25 $."
   ]
  },
  {
   "cell_type": "markdown",
   "metadata": {},
   "source": [
    "<i><u>Explanation</u>: The probability of getting Head is three times of the probability of getting Tail.\n",
    "    <ul>\n",
    "        <li>The total probability is 1. </li>\n",
    "        <li> We divide 1 into four parts (three parts for Head and one part is for Tail),\n",
    "        <li> one part is $ \\dfrac{1}{4} = 0.25$,</li>\n",
    "        <li> and then give three parts for Head ($0.75$) and one part for Tail ($0.25$).</li>\n",
    "    </ul></i>"
   ]
  },
  {
   "cell_type": "markdown",
   "metadata": {},
   "source": [
    "<h3> Listing probabilities as a column </h3>\n",
    "\n",
    "We have two different outcomes: Head (0) and Tail (1).\n",
    "\n",
    "Then, we can use a column of size 2 to hold the probabilities of getting Head and getting Tail.\n",
    "\n",
    "For the fair coin, our information after the coin-flip is $ \\myvector{0.5 \\\\ 0.5} $. \n",
    "\n",
    "For the biased coin, it is $ \\myvector{0.75 \\\\ 0.25} $.\n",
    "\n",
    "The first entry shows the probability of getting Head, and the second entry shows the probability of getting Tail.\n",
    "\n",
    " $ \\myvector{0.5 \\\\ 0.5} $ and $ \\myvector{0.75 \\\\ 0.25} $ are two examples of 2-dimensional (column) vectors."
   ]
  },
  {
   "cell_type": "markdown",
   "metadata": {},
   "source": [
    "<h3> Task 1 </h3>\n",
    "\n",
    "Suppose that Balvis secretly flips a coin having bias $ \\dfrac{Pr(Head)}{Pr(Tail)} = \\dfrac{1}{4}$.\n",
    "\n",
    "Represent your information about the outcome as a column vector."
   ]
  },
  {
   "cell_type": "markdown",
   "metadata": {},
   "source": [
    "$$\n",
    "solution = \\myvector{0.2 \\\\ 0.8}\n",
    "$$"
   ]
  },
  {
   "cell_type": "markdown",
   "metadata": {},
   "source": [
    "<h3> Task 2 </h3>\n",
    "\n",
    "Suppose that Fyodor secretly rolls a loaded (tricky) dice with the bias \n",
    "\n",
    "$$ Pr(1):Pr(2):Pr(3):Pr(4):Pr(5):Pr(6) = 7:5:4:2:6:1 . $$\n",
    "\n",
    "Represent your information about the result as a column vector. Remark that the size of your column should be 6.\n",
    "\n",
    "You may use python for your calculations."
   ]
  },
  {
   "cell_type": "markdown",
   "metadata": {},
   "source": [
    "$$\n",
    "solution = \\myvector{0.28 \\\\ 0.2 \\\\ 0.16 \\\\ 0.08 \\\\ 0.24 \\\\ 0.04}\n",
    "$$"
   ]
  },
  {
   "cell_type": "code",
   "execution_count": 2,
   "metadata": {},
   "outputs": [
    {
     "name": "stdout",
     "output_type": "stream",
     "text": [
      "[0.28, 0.2, 0.16, 0.08, 0.24, 0.04] 1.0\n"
     ]
    }
   ],
   "source": [
    "probabilities = [7 ,5, 4, 2, 6, 1]\n",
    "probabilities = [val / sum(probabilities) for val in probabilities]\n",
    "print(probabilities, sum(probabilities))"
   ]
  },
  {
   "cell_type": "markdown",
   "metadata": {},
   "source": [
    "<a href=\"B12_Probabilistic_States_Solutions.ipynb#task2\">click for our solution</a>"
   ]
  },
  {
   "cell_type": "markdown",
   "metadata": {},
   "source": [
    "<h3> Vector representation </h3>\n",
    "\n",
    "Suppose that we have a system with 4 distiguishable states: $ s_1 $, $s_2 $, $s_3$, and $s_4$.  \n",
    "\n",
    "We expect the system to be in one of them at any moment. \n",
    "\n",
    "By using the language of probability, we can also say that the system is in one of the states with probability 1, and in any other state with probabilty 0. \n",
    "\n",
    "Then, by using our column representation, we can show each state as a column vector (by using the vectors in standard basis of $ \\mathbb{R}^4 $):\n",
    "\n",
    "$$\n",
    "    e_1 = \\myvector{1\\\\ 0 \\\\ 0 \\\\ 0}, e_2 = \\myvector{0 \\\\ 1 \\\\ 0 \\\\ 0}, e_3 = \\myvector{0 \\\\ 0 \\\\ 1 \\\\ 0}, \n",
    "    \\mbox{ and } e_4 = \\myvector{0 \\\\ 0 \\\\ 0 \\\\ 1}.\n",
    "$$"
   ]
  },
  {
   "cell_type": "markdown",
   "metadata": {},
   "source": [
    "This representation helps us to represent our knowledge on a system when it is in more than one state with certain probabilities. \n",
    "\n",
    "Remember the case in which the coins are tossed secretly. \n",
    "\n",
    "For example, suppose that the system is in state $ s_1 $, $ s_2 $, $ s_3 $, and $ s_4 $ with probabilities $ 0.20 $, $ 0.25 $, $ 0.40 $, and $ 0.15 $, respectively. \n",
    "\n",
    "(<i>The total probability should be 1, i.e., $ 0.20+0.25+0.40+0.15 = 1.00 $</i>)\n",
    "\n",
    "Then, we can say that the system is in the following probabilistic state:\n",
    "\n",
    "$$ 0.20 \\cdot e_1 + 0.25 \\cdot e2 + 0.40 \\cdot e_3 + 0.15 \\cdot e4 $$\n",
    "\n",
    "$$ =  0.20 \\cdot \\myvector{1\\\\ 0 \\\\ 0 \\\\ 0} + 0.25 \\cdot \\myvector{0\\\\ 1 \\\\ 0 \\\\ 0} + 0.40 \\cdot \\myvector{0\\\\ 0 \\\\ 1 \\\\ 0} + 0.15 \\cdot  \\myvector{0\\\\ 0 \\\\ 0 \\\\ 1}  \n",
    "$$\n",
    "\n",
    "$$ = \\myvector{0.20\\\\ 0 \\\\ 0 \\\\ 0} +   \\myvector{0\\\\ 0.25 \\\\ 0 \\\\ 0} +  \\myvector{0\\\\ 0 \\\\0.40 \\\\ 0} +  \\myvector{0\\\\ 0 \\\\ 0 \\\\ 0.15 } = \\myvector{ 0.20 \\\\ 0.25 \\\\ 0.40 \\\\ 0.15 }, $$\n",
    "\n",
    "where the summation of entries must be 1."
   ]
  },
  {
   "cell_type": "markdown",
   "metadata": {},
   "source": [
    "<h3> Probabilistic state </h3>\n",
    "\n",
    "A probabilistic state is a linear combination of the vectors in the standard basis. \n",
    "    \n",
    "Here coefficients (scalars) must satisfy certain properties:\n",
    "<ol>\n",
    "    <li> Each coefficient is non-negative </li>\n",
    "    <li> The summation of coefficients is 1 </li>\n",
    "</ol>\n",
    "\n",
    "\n",
    "Alternatively, we can say that a probabilistic state is a probability distribution over deterministic states.\n",
    "\n",
    "We can show all information as a single mathematical object, which is called as a stochastic vector.\n",
    "\n",
    "<i> Remark that the state of any linear system is a linear combination of the vectors in the picked basis. </i> "
   ]
  },
  {
   "cell_type": "markdown",
   "metadata": {},
   "source": [
    "<h3> Task 3 </h3>\n",
    "\n",
    "For a system with 4 states, randomly create a probabilistic state, and print its entries, e.g., $ 0.16~~0.17~~0.02~~0.65 $.\n",
    "\n",
    "<i>Hint: You may pick your random numbers between 0 and 100 (or 1000), and then normalize each value by dividing the summation of all numbers.</i>"
   ]
  },
  {
   "cell_type": "code",
   "execution_count": 7,
   "metadata": {},
   "outputs": [
    {
     "name": "stdout",
     "output_type": "stream",
     "text": [
      "Sum of probabilites is  1.0\n",
      "\n",
      "Random vector is:\n",
      "\n",
      "0.025252525252525252\n",
      "0.45454545454545453\n",
      "0.30808080808080807\n",
      "0.21212121212121213\n"
     ]
    }
   ],
   "source": [
    "from random import randint\n",
    "\n",
    "vector = [randint(0, 100) for i in range(4)]\n",
    "vector = [value / sum(vector) for value in vector]\n",
    "\n",
    "print('Sum of probabilites is ', sum(vector))\n",
    "print()\n",
    "print('Random vector is:')\n",
    "print()\n",
    "for i in range(4):\n",
    "    print(vector[i])"
   ]
  },
  {
   "cell_type": "markdown",
   "metadata": {},
   "source": [
    "<a href=\"B12_Probabilistic_States_Solutions.ipynb#task3\">click for our solution</a>"
   ]
  },
  {
   "cell_type": "markdown",
   "metadata": {},
   "source": [
    "<h3> Task 4 [extra] </h3>\n",
    "\n",
    "In the hint given for Task 3, you may pick your random numbers between 0 and $ 10^k $. For better precision, you can take bigger values of $ k $.\n",
    "\n",
    "Write a function that randomly creates a probabilisitic state of size $ n $ with a precision up to $ k $ digits. \n",
    "\n",
    "Test your function."
   ]
  },
  {
   "cell_type": "code",
   "execution_count": 13,
   "metadata": {},
   "outputs": [
    {
     "name": "stdout",
     "output_type": "stream",
     "text": [
      "Sum of probabilites is  1.0\n",
      "\n",
      "Random vector is:\n",
      "\n",
      "0.22344334924614487\n",
      "0.2770889858158464\n",
      "0.17676958477865165\n",
      "0.04186557681079781\n",
      "0.28083250334855925\n"
     ]
    }
   ],
   "source": [
    "from random import randint\n",
    "\n",
    "k = 4\n",
    "n = 5\n",
    "vector = [randint(0, 10**k) for i in range(n)]\n",
    "vector = [value / sum(vector) for value in vector]\n",
    "\n",
    "print('Sum of probabilites is ', sum(vector))\n",
    "print()\n",
    "print('Random vector is:')\n",
    "print()\n",
    "for i in range(n):\n",
    "    print(vector[i])"
   ]
  }
 ],
 "metadata": {
  "kernelspec": {
   "display_name": "Python 3",
   "language": "python",
   "name": "python3"
  },
  "language_info": {
   "codemirror_mode": {
    "name": "ipython",
    "version": 3
   },
   "file_extension": ".py",
   "mimetype": "text/x-python",
   "name": "python",
   "nbconvert_exporter": "python",
   "pygments_lexer": "ipython3",
   "version": "3.8.0"
  }
 },
 "nbformat": 4,
 "nbformat_minor": 2
}
