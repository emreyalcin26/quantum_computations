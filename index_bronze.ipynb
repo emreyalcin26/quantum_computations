{
 "cells": [
  {
   "cell_type": "markdown",
   "metadata": {},
   "source": [
    "<table><tr>\n",
    "    <td  style=\"background-color:#ffffff;text-align:left;\"><a href=\"http://qworld.lu.lv\" target=\"_blank\"><img src=\"images\\qworld.jpg\" width=\"30%\" align=\"left\"></a></td>\n",
    "    <td style=\"background-color:#ffffff;\">&nbsp;</td>\n",
    "    <td style=\"background-color:#ffffff;vertical-align:text-middle;text-align:right;\">\n",
    "        <table><tr style=\"background-color:white;\">\n",
    "            <td> Visit</td>\n",
    "            <td><a href=\"http://qworld.lu.lv\" target=\"_blank\"><img src=\"images/web-logo.png\" width=\"35px\"></a></td>\n",
    "            <td width=\"10pt\"></td>\n",
    "            <td> Join</td>\n",
    "            <td><a href=\"https://qworldworkspace.slack.com/\" target=\"_blank\"><img src=\"images/slack-icon.png\" width=\"80px\"></a></td>\n",
    "            <td width=\"10pt\"></td>\n",
    "            <td>Follow</td>\n",
    "            <td><a href=\"https://www.facebook.com/qworld19/\" target=\"_blank\"><img src=\"images/facebook-icon.png\" width=\"40px\"></a></td>\n",
    "            <td><a href=\"https://twitter.com/QWorld19\" target=\"_blank\"><img src=\"images/twitter-icon.png\" width=\"40px\"></a></td>\n",
    "        </tr></table>\n",
    "    </td>     \n",
    "</tr></table>"
   ]
  },
  {
   "cell_type": "markdown",
   "metadata": {},
   "source": [
    "<h1 align=\"center\" style=\"color: #cd7f32;\"> Welcome to QWorld's Bronze </h1>"
   ]
  },
  {
   "cell_type": "markdown",
   "metadata": {},
   "source": [
    "<font style=\"color: #cd7f32;size:+1;\"><b>Bronze</b></font> is our introductory material to introduce the basics of quantum computation and quantum programming.\n",
    "\n",
    "Bronze can be used to organize three-day long workshops or to design a 2-credit lecture for the second or third year university students. During Bronze, we focus on real numbers and skip to use complex numbers to keep the tutorial simpler. Here is the complete list of <a href=\"http://qworld.lu.lv/index.php/workshop-bronze/#list\" target=\"_blank\">QWBronze</a>&nbsp;(our workshops using Bronze) organized until now. "
   ]
  },
  {
   "cell_type": "markdown",
   "metadata": {},
   "source": [
    "Bronze is a collection of <a href=\"https://jupyter.org\" target=\"_blank\">Jupyter notebooks</a>. <i>If you are using Jupyter notebooks for the first time, you may shortly check <a href=\"test/Cells_in_notebook.ipynb\" target=\"_blank\">Cells in Notebook</a>.</i>\n",
    "\n",
    "<u>Programming language:</u>  <a href=\"https://www.python.org\" target=\"_blank\">python</a>\n",
    "\n",
    "<u>Quantum programming libraries:</u> <a href=\"https://qiskit.org\" target=\"_blank\">Qiskit</a> is the main library at the moment. We are extending Bronze to use <a href=\"https://projectq.ch\" target=\"_blank\">ProjectQ</a>, <a href=\"https://github.com/quantumlib/Cirq\" target=\"_blank\">Cirq</a>, and <a href=\"http://docs.rigetti.com/en/stable/\" target=\"_blank\">pyQuil</a>.\n",
    "\n",
    "<u>The other tools:</u>\n",
    "<ul>\n",
    "    <li> We use open source  interactive tool <a href=\"http://play.quantumgame.io\" target=\"_blank\">quantumgame</a> for showing quantum coin flipping experiments.</li>\n",
    "    <li> We use <a href=\"https://www.mathjax.org\" target=\"_blank\">MathJax</a> (Apache License 2.0) to display mathematical expressions on html files (e.g., exercises).</li>\n",
    "</ul>"
   ]
  },
  {
   "cell_type": "markdown",
   "metadata": {},
   "source": [
    "<b>Support:</b> You can use _#general channel under_ <a href=\"https://qworldworkspace.slack.com/\" target=\"_blank\">QWorld's slack workspace</a> to ask your questions."
   ]
  },
  {
   "cell_type": "markdown",
   "metadata": {},
   "source": [
    "<hr>\n",
    "<h3 align=\"left\"> Installation and Test </h3>"
   ]
  },
  {
   "cell_type": "markdown",
   "metadata": {},
   "source": [
    "_Python libraries including quantum ones are often updated. Therefore, there might appear some problems due to different versions. You can ask your questions #general channel under [QWorld's slack workspace](https://qworldworkspace.slack.com/) if you need help regarding the installations._\n",
    "\n",
    "Before starting to use Bronze, please test your system by using the following notebook(s)!\n",
    "\n",
    "Qiskit is the main the quantum programming library, and you should install it to follow the whole Bronze. The installations  of the other programmming libraries are options at the moment.\n",
    "\n",
    "<ul>\n",
    "    <li><a href=\"test/Qiskit_installation_and_test.ipynb\" target=\"_blank\">Qiskit installation and test</a></li>\n",
    "    <li>ProjectQ installation and test (very soon)</li>\n",
    "    <li>Cirq installation and test (very soon)</li>\n",
    "    <li>pyQuil installation and test (very soon)</li>\n",
    "</ul>"
   ]
  },
  {
   "cell_type": "markdown",
   "metadata": {},
   "source": [
    "<hr>\n",
    "<h1 align=\"center\"> Content </h1>\n",
    "<hr>"
   ]
  },
  {
   "cell_type": "markdown",
   "metadata": {},
   "source": [
    "<ul>\n",
    "    <li><a href=\"bronze/B00_Credits.ipynb\" target=\"_blank\">Credits</a></li>\n",
    "</ul>"
   ]
  },
  {
   "cell_type": "markdown",
   "metadata": {},
   "source": [
    "<b>References</b>\n",
    "<ul type=\"a\">\n",
    "    <li><a href=\"python/Python04_Quick_Reference.ipynb\" target=\"_blank\">Python Reference</a></li>\n",
    "    <li><a href=\"python/Python06_Drawing.ipynb\" target=\"_blank\">Python: Drawing</a></li>\n",
    "    <li><a href=\"bronze/B01_Qiskit_Reference.ipynb\" target=\"_blank\">Qiskit Reference</a></li>\n",
    "</ul>"
   ]
  },
  {
   "cell_type": "markdown",
   "metadata": {},
   "source": [
    "<b>Connecting to real quantum computers</b>\n",
    "<ul>\n",
    "    <li><a href=\"https://qiskit.org/documentation/install.html#install-access-ibm-q-devices-label\" target=\"_blank\">Access IBM Q Systems</a> <i>[external link]</i></li>\n",
    "</ul>"
   ]
  },
  {
   "cell_type": "markdown",
   "metadata": {},
   "source": [
    "<b>Python review</b>\n",
    "<ul>\n",
    "    <li><a href=\"python/Python08_Basics_Variables.ipynb\" target=\"_blank\">Variables</a></li>\n",
    "    <li><a href=\"python/Python12_Basics_Loops.ipynb\" target=\"_blank\">Loops</a></li>\n",
    "    <li><a href=\"python/Python16_Basics_Conditionals.ipynb\" target=\"_blank\">Conditionals</a></li>\n",
    "    <li><a href=\"python/Python20_Basics_Lists.ipynb\" target=\"_blank\">Lists</a></li>\n",
    "</ul>"
   ]
  },
  {
   "cell_type": "markdown",
   "metadata": {},
   "source": [
    "<b>Basic math</b>\n",
    "<ul>\n",
    "    <li><a href=\"math/Math20_Vectors.ipynb\" target=\"_blank\">Vectors</a></li>\n",
    "    <li><a href=\"math/Math24_Dot_Product.ipynb\" target=\"_blank\">Dot Product</a></li>\n",
    "    <li><a href=\"math/Math28_Matrices.ipynb\" target=\"_blank\">Matrices</a></li>\n",
    "    <li><a href=\"math/Math32_Tensor_Product.ipynb\" target=\"_blank\">Tensor Product</a></li>\n",
    "    <li style=\"list-style-type:circle;\"><a href=\"exercises/E05_Basic_Math.ipynb\" target=\"_blank\">Exercises for Basic Math</a></li>\n",
    "</ul>"
   ]
  },
  {
   "cell_type": "markdown",
   "metadata": {},
   "source": [
    "<b>Classical (probabilistic) systems</b>\n",
    "<ol start=\"1\">\n",
    "    <li><a href=\"bronze/B03_One_Bit.ipynb\" target=\"_blank\">One Bit</a></li>\n",
    "    <li><a href=\"bronze/B06_Coin_Flip.ipynb\" target=\"_blank\">Coin Flipping</a></li>\n",
    "    <li><a href=\"bronze/B09_Coin_Flip_Game.ipynb\" target=\"_blank\">Coin Flipping Game</a></li>\n",
    "    <li><a href=\"bronze/B12_Probabilistic_States.ipynb\" target=\"_blank\">Probabilistic States</a></li> \n",
    "    <li><a href=\"bronze/B15_Probabilistic_Operators.ipynb\" target=\"_blank\">Probabilistic Operators</a></li> \n",
    "    <li><a href=\"bronze/B17_Two_Probabilistic_Bits.ipynb\" target=\"_blank\">Two Probabilistic Bits</a></li> \n",
    "    <li><a href=\"bronze/B17-5_Freivalds.ipynb\" target=\"_blank\">Freivalds</a> [optional]</li>\n",
    "    <li><a href=\"bronze/B18_Correlation.ipynb\" target=\"_blank\">Correlation</a></li>\n",
    "    <li style=\"list-style-type:circle;\"><a href=\"exercises/E09_Probabilistic_Systems.ipynb\" target=\"_blank\">Exercises for Probabilistic Systems</a></li>\n",
    "</ol>"
   ]
  },
  {
   "cell_type": "markdown",
   "metadata": {},
   "source": [
    "<b>Basics of a quantum program (circuit)</b>\n",
    "9. First Quantum Programs by \n",
    " - [Qiskit](bronze/B20_First_Quantum_Programs_by_Qiskit.ipynb) \n",
    " - _ProjectQ (very soon)_\n",
    " - _Cirq (very soon)_\n",
    " - _pyQuil (very soon)_"
   ]
  },
  {
   "cell_type": "markdown",
   "metadata": {},
   "source": [
    "<b>Basics of quantum systems</b>\n",
    "10. [Quantum Coin Flipping](bronze/B20_Quantum_Coin_Flipping.ipynb)\n",
    "<!-- <a style=\"color:#d0d0d0;\" href=\"bronze/B22_Waves_and_Interference.ipynb\" target=\"_blank\">Waves and Interference</a> -->\n",
    "1. [Hadamard Operator](bronze/B24_Hadamard.ipynb)\n",
    "1. [One Qubit](bronze/B26_One_Qubit.ipynb)\n",
    "1. [Quantum State](bronze/B28_Quantum_State.ipynb)\n",
    "1. [Visualization of a (Real-Valued) Qubit](bronze/B30_Visualization_of_a_Qubit.ipynb)\n",
    "1. [Superposition and Measurement](bronze/B34_Superposition_and_Measurement.ipynb)"
   ]
  },
  {
   "cell_type": "markdown",
   "metadata": {},
   "source": [
    "<b>Quantum operators on a (real-valued) qubit</b>\n",
    "16. [Operations on the Unit Circle](bronze/B40_Operations_on_the_Unit_Circle.ipynb)\n",
    "1. [Rotations](bronze/B42_Rotations.ipynb)\n",
    "1. [Reflections](bronze/B44_Reflections.ipynb)\n",
    "1. [Quantum Tomography](bronze/B48_Quantum_Tomography.ipynb)"
   ]
  },
  {
   "cell_type": "markdown",
   "metadata": {},
   "source": [
    "<b>Quantum correlation (entanglement)</b>\n",
    "20. [Two Qubits](bronze/B38_Two_Qubits.ipynb)\n",
    "1. [Phase Kickback](bronze/B40_Phase_Kickback.ipynb)\n",
    "1. [Entanglement and Superdense Coding](bronze/B50_Superdense_Coding.ipynb)\n",
    "1. [Quantum Teleportation](bronze/B54_Quantum_Teleportation.ipynb)"
   ]
  },
  {
   "cell_type": "markdown",
   "metadata": {},
   "source": [
    "<ol start=\"23\">\n",
    "    <li><a href=\"bronze/B72_Rotation_Automata.ipynb\" target=\"_blank\">Rotation Automata</a> [optional]</li>\n",
    "    <li><a href=\"bronze/B74_Multiple_Control_Constructions.ipynb\" target=\"_blank\">Multiple Control Constructions</a></li>\n",
    "    <li><a href=\"bronze/B76_Multiple_Rotations.ipynb\" target=\"_blank\">Multiple Rotations</a> [optional]</li>\n",
    "</ol>  "
   ]
  },
  {
   "cell_type": "markdown",
   "metadata": {},
   "source": [
    "<b>Grover's search algorithm</b>\n",
    "<ol start=\"26\">\n",
    "    <li><a href=\"bronze/B80_Inversion_About_the_Mean.ipynb\" target=\"_blank\">Inversion About the Mean</a></li>\n",
    "    <li><a href=\"bronze/B88_Grovers_Search_One_Qubit_Reprsentation.ipynb\" target=\"_blank\">Grover's Search: One Qubit Representation</a></li>\n",
    "    <li><a href=\"bronze/B92_Grover_Search_Implementation.ipynb\" target=\"_blank\">Grover's Search: Implementation</a></li>\n",
    "</ol> "
   ]
  }
 ],
 "metadata": {
  "kernelspec": {
   "display_name": "Python 3",
   "language": "python",
   "name": "python3"
  },
  "language_info": {
   "codemirror_mode": {
    "name": "ipython",
    "version": 3
   },
   "file_extension": ".py",
   "mimetype": "text/x-python",
   "name": "python",
   "nbconvert_exporter": "python",
   "pygments_lexer": "ipython3",
   "version": "3.8.0"
  }
 },
 "nbformat": 4,
 "nbformat_minor": 2
}
